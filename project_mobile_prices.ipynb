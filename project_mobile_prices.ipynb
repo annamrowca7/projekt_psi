{
 "cells": [
  {
   "cell_type": "markdown",
   "metadata": {},
   "source": [
    "# Podstawy sztucznej inteligencji, projekt na podstawie dataset: Spotify Top 100 Songs of 2010-2019 \n",
    "https://www.kaggle.com/datasets/muhmores/spotify-top-100-songs-of-20152019/code?resource=download\n"
   ]
  },
  {
   "cell_type": "code",
   "execution_count": 2,
   "metadata": {},
   "outputs": [],
   "source": [
    "import pandas as pd\n",
    "import numpy as np"
   ]
  },
  {
   "cell_type": "code",
   "execution_count": 9,
   "metadata": {},
   "outputs": [
    {
     "data": {
      "text/plain": [
       "Index(['title', 'artist', 'top genre', 'year released', 'added', 'bpm', 'nrgy',\n",
       "       'dnce', 'dB', 'live', 'val', 'dur', 'acous', 'spch', 'pop', 'top year',\n",
       "       'artist type'],\n",
       "      dtype='object')"
      ]
     },
     "execution_count": 9,
     "metadata": {},
     "output_type": "execute_result"
    }
   ],
   "source": [
    "raw_df = pd.read_csv(\"Spotify 2010 - 2019 Top 100.csv\")\n",
    "raw_df.columns"
   ]
  },
  {
   "cell_type": "markdown",
   "metadata": {},
   "source": [
    "## Opis kolumn"
   ]
  },
  {
   "cell_type": "markdown",
   "metadata": {},
   "source": [
    "| Column Name | Column Description|\n",
    "|---|---|\n",
    "title\t| Song's Title\n",
    "artist |\tSong's artist\n",
    "genre\t| Genre of song\n",
    "year released\t| Year the song was released\n",
    "added\t| Day song was added to Spotify's Top Hits playlist\n",
    "bpm | \tBeats Per Minute - The tempo of the song\n",
    "nrgy |\tEnergy - How energetic the song is\n",
    "dnce |\tDanceability - How easy it is to dance to the song\n",
    "dB |\tDecibel - How loud the song is\n",
    "live|\tHow likely the song is a live recording\n",
    "val|\tHow positive the mood of the song is\n",
    "dur|\tDuration of the song\n",
    "acous|\tHow acoustic the song is\n",
    "spch|\tThe more the song is focused on spoken word\n",
    "pop|\tPopularity of the song (not a ranking)\n",
    "top year|\tYear the song was a top hit\n",
    "artist type|\tTells if artist is solo, duo, trio, or a band\n"
   ]
  },
  {
   "cell_type": "markdown",
   "metadata": {},
   "source": []
  },
  {
   "cell_type": "code",
   "execution_count": null,
   "metadata": {},
   "outputs": [],
   "source": []
  }
 ],
 "metadata": {
  "interpreter": {
   "hash": "c337682e0b3827afa3099e7db60734952074a0a577436447116d2808b013e030"
  },
  "kernelspec": {
   "display_name": "Python 3.9.7 ('base')",
   "language": "python",
   "name": "python3"
  },
  "language_info": {
   "codemirror_mode": {
    "name": "ipython",
    "version": 3
   },
   "file_extension": ".py",
   "mimetype": "text/x-python",
   "name": "python",
   "nbconvert_exporter": "python",
   "pygments_lexer": "ipython3",
   "version": "3.9.7"
  },
  "orig_nbformat": 4
 },
 "nbformat": 4,
 "nbformat_minor": 2
}
